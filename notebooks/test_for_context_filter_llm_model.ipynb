{
 "cells": [
  {
   "cell_type": "code",
   "execution_count": 1,
   "id": "bbf552d1-cb36-4888-a179-2f00b1c4c319",
   "metadata": {},
   "outputs": [],
   "source": [
    "import os\n",
    "import sys\n",
    "import pandas as pd\n",
    "module_path = os.path.abspath(os.path.join('..'))\n",
    "if module_path not in sys.path:\n",
    "    sys.path.append(module_path)\n",
    "\n",
    "from src.context_filter_llm_model import context_filter_llm_model"
   ]
  },
  {
   "cell_type": "code",
   "execution_count": 2,
   "id": "62171c58-3d83-439f-a79b-cc68f9f8caef",
   "metadata": {},
   "outputs": [],
   "source": [
    "questions = pd.read_csv(\"../data/processed/questions.csv\")\n",
    "context_filter_llm_model = context_filter_llm_model(questions)"
   ]
  },
  {
   "cell_type": "code",
   "execution_count": 3,
   "id": "a852e998-0d3a-43bd-a4c5-3aa518273dae",
   "metadata": {},
   "outputs": [],
   "source": [
    "query = 'What is the Status of the client 1?'"
   ]
  },
  {
   "cell_type": "code",
   "execution_count": 4,
   "id": "d428e2f1-a75f-4e1b-80fd-408d519f6061",
   "metadata": {},
   "outputs": [
    {
     "data": {
      "text/plain": [
       "array([0.65137315, 0.55983424, 0.5747518 , ..., 0.55165756, 0.46721193,\n",
       "       0.56799364], dtype=float32)"
      ]
     },
     "execution_count": 4,
     "metadata": {},
     "output_type": "execute_result"
    }
   ],
   "source": [
    "context_filter_llm_model.get_similarities(query)"
   ]
  },
  {
   "cell_type": "code",
   "execution_count": 5,
   "id": "142737b9-a4c6-4327-b860-c5e067533c52",
   "metadata": {},
   "outputs": [
    {
     "data": {
      "text/html": [
       "<div>\n",
       "<style scoped>\n",
       "    .dataframe tbody tr th:only-of-type {\n",
       "        vertical-align: middle;\n",
       "    }\n",
       "\n",
       "    .dataframe tbody tr th {\n",
       "        vertical-align: top;\n",
       "    }\n",
       "\n",
       "    .dataframe thead th {\n",
       "        text-align: right;\n",
       "    }\n",
       "</style>\n",
       "<table border=\"1\" class=\"dataframe\">\n",
       "  <thead>\n",
       "    <tr style=\"text-align: right;\">\n",
       "      <th></th>\n",
       "      <th>Example Question</th>\n",
       "      <th>Hal-Answers</th>\n",
       "      <th>similarity</th>\n",
       "    </tr>\n",
       "  </thead>\n",
       "  <tbody>\n",
       "    <tr>\n",
       "      <th>948</th>\n",
       "      <td>When will I receive a response regarding my ap...</td>\n",
       "      <td>True</td>\n",
       "      <td>0.721827</td>\n",
       "    </tr>\n",
       "  </tbody>\n",
       "</table>\n",
       "</div>"
      ],
      "text/plain": [
       "                                      Example Question  Hal-Answers  \\\n",
       "948  When will I receive a response regarding my ap...         True   \n",
       "\n",
       "     similarity  \n",
       "948    0.721827  "
      ]
     },
     "execution_count": 5,
     "metadata": {},
     "output_type": "execute_result"
    }
   ],
   "source": [
    "context_filter_llm_model.get_most_similar_questions(query)"
   ]
  },
  {
   "cell_type": "code",
   "execution_count": 6,
   "id": "4120c946-d3e6-4a73-9af1-21719aba1e44",
   "metadata": {},
   "outputs": [
    {
     "data": {
      "text/plain": [
       "1"
      ]
     },
     "execution_count": 6,
     "metadata": {},
     "output_type": "execute_result"
    }
   ],
   "source": [
    "context_filter_llm_model.get_context_score(query)"
   ]
  }
 ],
 "metadata": {
  "kernelspec": {
   "display_name": "Python 3 (ipykernel)",
   "language": "python",
   "name": "python3"
  },
  "language_info": {
   "codemirror_mode": {
    "name": "ipython",
    "version": 3
   },
   "file_extension": ".py",
   "mimetype": "text/x-python",
   "name": "python",
   "nbconvert_exporter": "python",
   "pygments_lexer": "ipython3",
   "version": "3.11.5"
  }
 },
 "nbformat": 4,
 "nbformat_minor": 5
}
