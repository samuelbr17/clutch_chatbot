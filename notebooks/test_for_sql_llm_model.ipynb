{
 "cells": [
  {
   "cell_type": "code",
   "execution_count": 1,
   "id": "1100ebe1-3c98-43f9-9898-ceb8e0f2bbc9",
   "metadata": {},
   "outputs": [],
   "source": [
    "import os\n",
    "import sys\n",
    "module_path = os.path.abspath(os.path.join('..'))\n",
    "if module_path not in sys.path:\n",
    "    sys.path.append(module_path)\n",
    "\n",
    "from src.sql_llm_model import *"
   ]
  },
  {
   "cell_type": "code",
   "execution_count": 2,
   "id": "afe363f1-259e-4872-ab70-bc7c9a2ce06b",
   "metadata": {},
   "outputs": [
    {
     "name": "stdout",
     "output_type": "stream",
     "text": [
      "Found model file at  /Users/Samuel/.cache/gpt4all/ggml-model-gpt4all-falcon-q4_0.bin\n",
      "falcon_model_load: loading model from '/Users/Samuel/.cache/gpt4all/ggml-model-gpt4all-falcon-q4_0.bin' - please wait ...\n",
      "falcon_model_load: n_vocab   = 65024\n",
      "falcon_model_load: n_embd    = 4544\n",
      "falcon_model_load: n_head    = 71\n",
      "falcon_model_load: n_head_kv = 1\n",
      "falcon_model_load: n_layer   = 32\n",
      "falcon_model_load: ftype     = 2\n",
      "falcon_model_load: qntvr     = 0\n",
      "falcon_model_load: ggml ctx size = 3872.64 MB\n",
      "falcon_model_load: memory_size =    32.00 MB, n_mem = 65536\n",
      "falcon_model_load: .."
     ]
    },
    {
     "name": "stderr",
     "output_type": "stream",
     "text": [
      "objc[26123]: Class GGMLMetalClass is implemented in both /Users/Samuel/Library/Caches/pypoetry/virtualenvs/chatbot-clutch-KOPEQSmf-py3.11/lib/python3.11/site-packages/gpt4all/llmodel_DO_NOT_MODIFY/build/libreplit-mainline-metal.dylib (0x16128c228) and /Users/Samuel/Library/Caches/pypoetry/virtualenvs/chatbot-clutch-KOPEQSmf-py3.11/lib/python3.11/site-packages/gpt4all/llmodel_DO_NOT_MODIFY/build/libllamamodel-mainline-metal.dylib (0x1613a4228). One of the two will be used. Which one is undefined.\n"
     ]
    },
    {
     "name": "stdout",
     "output_type": "stream",
     "text": [
      "...................... done\n",
      "falcon_model_load: model size =  3872.59 MB / num tensors = 196\n"
     ]
    }
   ],
   "source": [
    "sql_llm_model = sql_llm_model(database_path = \"../data/clutch_database.db\")"
   ]
  },
  {
   "cell_type": "code",
   "execution_count": 3,
   "id": "6a816fc6-7c8e-4850-bfc7-d8d6070e5699",
   "metadata": {},
   "outputs": [
    {
     "name": "stdout",
     "output_type": "stream",
     "text": [
      "\n",
      "SELECT Amount FROM clients WHERE ID = 1;\n",
      "[(22465.3,)]\n"
     ]
    }
   ],
   "source": [
    "table = \"clients\"\n",
    "columns = ['Status', 'ID',  'ModificationDate', 'Rate', 'Amount']\n",
    "question = \"What is the amount from client 1?\"\n",
    "\n",
    "print(sql_llm_model.get_sql_query(table, question, columns))\n",
    "print(sql_llm_model.get_question_reponse(table, question, columns))"
   ]
  },
  {
   "cell_type": "code",
   "execution_count": null,
   "id": "53efd197-6643-4ec6-94af-1986c9b36629",
   "metadata": {},
   "outputs": [],
   "source": []
  }
 ],
 "metadata": {
  "kernelspec": {
   "display_name": "Python 3 (ipykernel)",
   "language": "python",
   "name": "python3"
  },
  "language_info": {
   "codemirror_mode": {
    "name": "ipython",
    "version": 3
   },
   "file_extension": ".py",
   "mimetype": "text/x-python",
   "name": "python",
   "nbconvert_exporter": "python",
   "pygments_lexer": "ipython3",
   "version": "3.11.5"
  }
 },
 "nbformat": 4,
 "nbformat_minor": 5
}
