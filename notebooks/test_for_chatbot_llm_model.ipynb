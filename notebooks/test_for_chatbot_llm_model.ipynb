{
 "cells": [
  {
   "cell_type": "code",
   "execution_count": 1,
   "id": "5c55ee62-8b37-4942-8252-e9e6677e582a",
   "metadata": {},
   "outputs": [],
   "source": [
    "import os\n",
    "import sys\n",
    "module_path = os.path.abspath(os.path.join('..'))\n",
    "if module_path not in sys.path:\n",
    "    sys.path.append(module_path)\n",
    "\n",
    "from src.sql_llm_model import *\n",
    "from src.context_filter_llm_model import *\n",
    "from src.chatbot_llm_model import *"
   ]
  },
  {
   "cell_type": "code",
   "execution_count": 2,
   "id": "663fd66a-748d-4f82-bbb6-47298e65ff1d",
   "metadata": {},
   "outputs": [
    {
     "name": "stdout",
     "output_type": "stream",
     "text": [
      "Found model file at  /Users/Samuel/.cache/gpt4all/ggml-model-gpt4all-falcon-q4_0.bin\n"
     ]
    },
    {
     "name": "stderr",
     "output_type": "stream",
     "text": [
      "objc[30905]: Class GGMLMetalClass is implemented in both /Users/Samuel/Library/Caches/pypoetry/virtualenvs/chatbot-clutch-KOPEQSmf-py3.11/lib/python3.11/site-packages/gpt4all/llmodel_DO_NOT_MODIFY/build/libreplit-mainline-metal.dylib (0x2a0314228) and /Users/Samuel/Library/Caches/pypoetry/virtualenvs/chatbot-clutch-KOPEQSmf-py3.11/lib/python3.11/site-packages/gpt4all/llmodel_DO_NOT_MODIFY/build/libllamamodel-mainline-metal.dylib (0x2a01dc228). One of the two will be used. Which one is undefined.\n"
     ]
    },
    {
     "name": "stdout",
     "output_type": "stream",
     "text": [
      "falcon_model_load: loading model from '/Users/Samuel/.cache/gpt4all/ggml-model-gpt4all-falcon-q4_0.bin' - please wait ...\n",
      "falcon_model_load: n_vocab   = 65024\n",
      "falcon_model_load: n_embd    = 4544\n",
      "falcon_model_load: n_head    = 71\n",
      "falcon_model_load: n_head_kv = 1\n",
      "falcon_model_load: n_layer   = 32\n",
      "falcon_model_load: ftype     = 2\n",
      "falcon_model_load: qntvr     = 0\n",
      "falcon_model_load: ggml ctx size = 3872.64 MB\n",
      "falcon_model_load: memory_size =    32.00 MB, n_mem = 65536\n",
      "falcon_model_load: ........................ done\n",
      "falcon_model_load: model size =  3872.59 MB / num tensors = 196\n",
      "Found model file at  /Users/Samuel/.cache/gpt4all/ggml-model-gpt4all-falcon-q4_0.bin\n",
      "falcon_model_load: loading model from '/Users/Samuel/.cache/gpt4all/ggml-model-gpt4all-falcon-q4_0.bin' - please wait ...\n",
      "falcon_model_load: n_vocab   = 65024\n",
      "falcon_model_load: n_embd    = 4544\n",
      "falcon_model_load: n_head    = 71\n",
      "falcon_model_load: n_head_kv = 1\n",
      "falcon_model_load: n_layer   = 32\n",
      "falcon_model_load: ftype     = 2\n",
      "falcon_model_load: qntvr     = 0\n",
      "falcon_model_load: ggml ctx size = 3872.64 MB\n",
      "falcon_model_load: memory_size =    32.00 MB, n_mem = 65536\n",
      "falcon_model_load: ........................ done\n",
      "falcon_model_load: model size =  3872.59 MB / num tensors = 196\n"
     ]
    }
   ],
   "source": [
    "chatbot_llm_model = chatbot_llm_model( \n",
    "                 database_path = \"../data/clutch_database.db\", \n",
    "                 questions_df_path = \"../data/processed/questions.csv\")"
   ]
  },
  {
   "cell_type": "markdown",
   "id": "cc57a302-3ec7-4000-8504-bd2db03aceea",
   "metadata": {},
   "source": [
    "### Answerable question"
   ]
  },
  {
   "cell_type": "code",
   "execution_count": 3,
   "id": "950fbfeb-1c04-49a9-a155-025ea598186b",
   "metadata": {},
   "outputs": [],
   "source": [
    "question = \"What is the amount from client 1?\""
   ]
  },
  {
   "cell_type": "code",
   "execution_count": 5,
   "id": "664b62c4-c735-4d75-ba53-17d89b0c0598",
   "metadata": {},
   "outputs": [
    {
     "name": "stdout",
     "output_type": "stream",
     "text": [
      "@{user}\n",
      "The amount from client 1 is $2,245.30.\n"
     ]
    }
   ],
   "source": [
    "chatbot_llm_model.execute_query(question)"
   ]
  },
  {
   "cell_type": "markdown",
   "id": "ee7837e7-241b-4a17-b48c-0992a662cc55",
   "metadata": {},
   "source": [
    "### Out of context question"
   ]
  },
  {
   "cell_type": "code",
   "execution_count": 10,
   "id": "2e8ac1f1-e692-4f49-9609-2f6fe6c6ce6d",
   "metadata": {},
   "outputs": [],
   "source": [
    "question = 'Who is elon musk?'"
   ]
  },
  {
   "cell_type": "code",
   "execution_count": 11,
   "id": "51217c3c-b2a8-482c-af8d-3cf802614967",
   "metadata": {},
   "outputs": [
    {
     "data": {
      "text/plain": [
       "'Sorry, I cannot answer that question'"
      ]
     },
     "execution_count": 11,
     "metadata": {},
     "output_type": "execute_result"
    }
   ],
   "source": [
    "chatbot_llm_model.execute_query(question)"
   ]
  },
  {
   "cell_type": "markdown",
   "id": "3bc6580f-54f1-422a-baf2-7c335c40c8b9",
   "metadata": {},
   "source": [
    "### Not answerable question"
   ]
  },
  {
   "cell_type": "code",
   "execution_count": 8,
   "id": "8b4ee62f-cc53-4e44-9682-4ca1bb701cd6",
   "metadata": {},
   "outputs": [],
   "source": [
    "question = 'What documents are required to apply for a loan?'"
   ]
  },
  {
   "cell_type": "code",
   "execution_count": 9,
   "id": "f4ceba42-b7c8-42d2-8e0c-ccc45f4dae59",
   "metadata": {},
   "outputs": [
    {
     "data": {
      "text/plain": [
       "\"I appreciate your question, but it's quite complex and may require the expertise of a more senior lending officer. They can provide you with a more detailed and accurate response. Please contact them directly for assistance with your inquiry.\""
      ]
     },
     "execution_count": 9,
     "metadata": {},
     "output_type": "execute_result"
    }
   ],
   "source": [
    "chatbot_llm_model.execute_query(question)"
   ]
  }
 ],
 "metadata": {
  "kernelspec": {
   "display_name": "Python 3 (ipykernel)",
   "language": "python",
   "name": "python3"
  },
  "language_info": {
   "codemirror_mode": {
    "name": "ipython",
    "version": 3
   },
   "file_extension": ".py",
   "mimetype": "text/x-python",
   "name": "python",
   "nbconvert_exporter": "python",
   "pygments_lexer": "ipython3",
   "version": "3.11.5"
  }
 },
 "nbformat": 4,
 "nbformat_minor": 5
}
