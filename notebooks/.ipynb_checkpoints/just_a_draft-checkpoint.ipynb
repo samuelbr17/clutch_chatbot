{
 "cells": [
  {
   "cell_type": "code",
   "execution_count": 1,
   "id": "491b6703-a07f-4da7-af20-13c56a4923e7",
   "metadata": {},
   "outputs": [],
   "source": [
    "from gpt4all import GPT4All\n",
    "from langchain.llms import GPT4All\n",
    "from langchain import PromptTemplate, LLMChain\n",
    "from langchain.llms import GPT4All\n",
    "from langchain.callbacks.streaming_stdout import StreamingStdOutCallbackHandler\n",
    "from langchain import PromptTemplate\n",
    "from langchain.document_loaders import TextLoader\n",
    "from langchain import PromptTemplate\n",
    "from langchain.callbacks.streaming_stdout import StreamingStdOutCallbackHandler\n",
    "from langchain import OpenAI, SQLDatabase\n",
    "from langchain.chains import SQLDatabaseSequentialChain\n",
    "\n",
    "from langchain.document_loaders import TextLoader\n",
    "from langchain.indexes import VectorstoreIndexCreator\n",
    "from langchain.embeddings import HuggingFaceEmbeddings\n",
    "import pandas as pd"
   ]
  },
  {
   "cell_type": "code",
   "execution_count": 2,
   "id": "4254f376-2eef-48b3-8fe3-821bf7fd8e96",
   "metadata": {},
   "outputs": [
    {
     "name": "stdout",
     "output_type": "stream",
     "text": [
      "Found model file at  /Users/Samuel/.cache/gpt4all/ggml-model-gpt4all-falcon-q4_0.bin\n"
     ]
    },
    {
     "name": "stderr",
     "output_type": "stream",
     "text": [
      "objc[16594]: Class GGMLMetalClass is implemented in both /Users/Samuel/Library/Caches/pypoetry/virtualenvs/chatbot-clutch-KOPEQSmf-py3.11/lib/python3.11/site-packages/gpt4all/llmodel_DO_NOT_MODIFY/build/libreplit-mainline-metal.dylib (0x173d68228) and /Users/Samuel/Library/Caches/pypoetry/virtualenvs/chatbot-clutch-KOPEQSmf-py3.11/lib/python3.11/site-packages/gpt4all/llmodel_DO_NOT_MODIFY/build/libllamamodel-mainline-metal.dylib (0x173c30228). One of the two will be used. Which one is undefined.\n"
     ]
    },
    {
     "name": "stdout",
     "output_type": "stream",
     "text": [
      "falcon_model_load: loading model from '/Users/Samuel/.cache/gpt4all/ggml-model-gpt4all-falcon-q4_0.bin' - please wait ...\n",
      "falcon_model_load: n_vocab   = 65024\n",
      "falcon_model_load: n_embd    = 4544\n",
      "falcon_model_load: n_head    = 71\n",
      "falcon_model_load: n_head_kv = 1\n",
      "falcon_model_load: n_layer   = 32\n",
      "falcon_model_load: ftype     = 2\n",
      "falcon_model_load: qntvr     = 0\n",
      "falcon_model_load: ggml ctx size = 3872.64 MB\n",
      "falcon_model_load: memory_size =    32.00 MB, n_mem = 65536\n",
      "falcon_model_load: ........................ done\n",
      "falcon_model_load: model size =  3872.59 MB / num tensors = 196\n"
     ]
    }
   ],
   "source": [
    "model = GPT4All(model='ggml-model-gpt4all-falcon-q4_0.bin')"
   ]
  },
  {
   "cell_type": "code",
   "execution_count": 3,
   "id": "03a15b5b-35ef-4a99-8626-deaeb767afb9",
   "metadata": {},
   "outputs": [],
   "source": [
    "context = \"\"\"\n",
    "You are a friendly loan assistant from a lending startup that responds in a conversational\n",
    "manner to users questions. Keep the answers short, unless specifically\n",
    "asked by the user to elaborate on something. Always maintain a polite and positive sentiment tone.\n",
    "\n",
    "You are only allowed to answer questions about the loan, for any other scope avoid to answer the question. \n",
    "\n",
    "The user wants to know whether the loan is approved, decline, or awaiting a\n",
    "decision.\n",
    "\n",
    "The user is also asking about the associated terms of the loan (APR, rate, term,\n",
    "and amount approved, as well as monthly payment).\n",
    "\n",
    "For any other question from the user, the model should still be polite and courteous but\n",
    "suggest that a more senior lending officer may need to answer that question. And when\n",
    "in doubt, you should avoid answering the question.\n",
    "\n",
    "\"\"\""
   ]
  },
  {
   "cell_type": "code",
   "execution_count": 4,
   "id": "79e4c7f2-36fd-4a8f-b2f4-dc8477521393",
   "metadata": {},
   "outputs": [],
   "source": [
    "template = f\"\"\"\n",
    "Please use the following context to answer questions.\n",
    "Context: {context}\n",
    "\"\"\""
   ]
  },
  {
   "cell_type": "code",
   "execution_count": 5,
   "id": "c6c04e6b-c72e-4fee-908c-b16ac799652b",
   "metadata": {},
   "outputs": [
    {
     "data": {
      "text/plain": [
       "'{\\n\"user_question\": {\\n\"question\": {\\n\"type\": {\\n\"value\": \"loan\",\\n\"description\": \"What type of loan are you applying for?\"\\n}\\n},\\n\"details\": {\\n\"type\": {\\n\"value\": \"personal\",\\n\"description\": \"What type of loan are you applying for?\"\\n}\\n}\\n}'"
      ]
     },
     "execution_count": 5,
     "metadata": {},
     "output_type": "execute_result"
    }
   ],
   "source": [
    "model(template)"
   ]
  },
  {
   "cell_type": "code",
   "execution_count": 6,
   "id": "542dbe79-f3e5-48cb-bb1c-746e3019efec",
   "metadata": {},
   "outputs": [],
   "source": [
    "questions = pd.read_csv(\"../data/processed/questions.csv\")"
   ]
  },
  {
   "cell_type": "code",
   "execution_count": 7,
   "id": "8a9314bb-96f0-4270-9e78-2c5d6dcc1410",
   "metadata": {},
   "outputs": [],
   "source": [
    "questions = questions.iloc[:15]"
   ]
  },
  {
   "cell_type": "code",
   "execution_count": 8,
   "id": "7b9d208c-f2e2-4279-82e6-9e23fa110183",
   "metadata": {},
   "outputs": [
    {
     "name": "stdout",
     "output_type": "stream",
     "text": [
      "1/15\n"
     ]
    },
    {
     "name": "stderr",
     "output_type": "stream",
     "text": [
      "/var/folders/q_/06pytmd94j99n76zywz_pm5m0000gp/T/ipykernel_16594/536241403.py:5: FutureWarning: Series.__getitem__ treating keys as positions is deprecated. In a future version, integer keys will always be treated as labels (consistent with DataFrame behavior). To access a value by position, use `ser.iloc[pos]`\n",
      "  model(f\"To give you more context, you can{dict_bool[row[1]]} answer the following question about the loan: {row[0]}\")\n"
     ]
    },
    {
     "name": "stdout",
     "output_type": "stream",
     "text": [
      "2/15\n",
      "3/15\n",
      "4/15\n",
      "5/15\n",
      "6/15\n",
      "7/15\n",
      "8/15\n",
      "9/15\n",
      "10/15\n",
      "11/15\n",
      "12/15\n",
      "13/15\n",
      "14/15\n",
      "15/15\n"
     ]
    }
   ],
   "source": [
    "dict_bool = {True: '', False: 'not'}\n",
    "\n",
    "for idx, row in questions.iterrows():\n",
    "    print(f\"{idx+1}/{len(questions)}\")\n",
    "    model(f\"To give you more context, you can{dict_bool[row[1]]} answer the following question about the loan: {row[0]}\")\n"
   ]
  },
  {
   "cell_type": "code",
   "execution_count": 10,
   "id": "96464b94-7818-4343-a23a-27004b53d640",
   "metadata": {},
   "outputs": [
    {
     "data": {
      "text/plain": [
       "\"\\nTo apply for a loan, you will typically need the following documents:\\n\\n1. Proof of income (e.g. pay stubs, W-2s, tax returns)\\n2. Bank statements\\n3. Credit reports\\n4. Identification documents (e.g. driver's license, passport)\\n5. Financial statements (e.g. budget, savings, investments)\\n6. Proof of collateral (if applicable)\\n7. Personal references\\n\\nNote that the specific requirements may vary depending on the type of loan you are applying for and the lender you choose to work with.\""
      ]
     },
     "execution_count": 10,
     "metadata": {},
     "output_type": "execute_result"
    }
   ],
   "source": [
    "model(\"What documents are required to apply for a loan?\t\")"
   ]
  },
  {
   "cell_type": "code",
   "execution_count": 9,
   "id": "3bfa8666-3c19-4b71-8cff-1efe3d7110a2",
   "metadata": {},
   "outputs": [
    {
     "data": {
      "text/html": [
       "<div>\n",
       "<style scoped>\n",
       "    .dataframe tbody tr th:only-of-type {\n",
       "        vertical-align: middle;\n",
       "    }\n",
       "\n",
       "    .dataframe tbody tr th {\n",
       "        vertical-align: top;\n",
       "    }\n",
       "\n",
       "    .dataframe thead th {\n",
       "        text-align: right;\n",
       "    }\n",
       "</style>\n",
       "<table border=\"1\" class=\"dataframe\">\n",
       "  <thead>\n",
       "    <tr style=\"text-align: right;\">\n",
       "      <th></th>\n",
       "      <th>Example Question</th>\n",
       "      <th>Hal-Answers</th>\n",
       "    </tr>\n",
       "  </thead>\n",
       "  <tbody>\n",
       "    <tr>\n",
       "      <th>0</th>\n",
       "      <td>What is the current status of my loan applicat...</td>\n",
       "      <td>True</td>\n",
       "    </tr>\n",
       "    <tr>\n",
       "      <th>1</th>\n",
       "      <td>When can I expect a decision on my loan applic...</td>\n",
       "      <td>True</td>\n",
       "    </tr>\n",
       "    <tr>\n",
       "      <th>2</th>\n",
       "      <td>What additional information do you need from m...</td>\n",
       "      <td>True</td>\n",
       "    </tr>\n",
       "    <tr>\n",
       "      <th>3</th>\n",
       "      <td>Can I check the status of my loan application ...</td>\n",
       "      <td>True</td>\n",
       "    </tr>\n",
       "    <tr>\n",
       "      <th>4</th>\n",
       "      <td>Are there any updates on the progress of my lo...</td>\n",
       "      <td>True</td>\n",
       "    </tr>\n",
       "    <tr>\n",
       "      <th>5</th>\n",
       "      <td>How long does it typically take to process a l...</td>\n",
       "      <td>True</td>\n",
       "    </tr>\n",
       "    <tr>\n",
       "      <th>6</th>\n",
       "      <td>What documents are required to apply for a loan?</td>\n",
       "      <td>False</td>\n",
       "    </tr>\n",
       "    <tr>\n",
       "      <th>7</th>\n",
       "      <td>Can I submit my loan application electronically?</td>\n",
       "      <td>False</td>\n",
       "    </tr>\n",
       "    <tr>\n",
       "      <th>8</th>\n",
       "      <td>Is there a deadline for submitting the require...</td>\n",
       "      <td>False</td>\n",
       "    </tr>\n",
       "    <tr>\n",
       "      <th>9</th>\n",
       "      <td>Do I need to provide bank statements as part o...</td>\n",
       "      <td>False</td>\n",
       "    </tr>\n",
       "    <tr>\n",
       "      <th>10</th>\n",
       "      <td>What is the minimum credit score required to q...</td>\n",
       "      <td>False</td>\n",
       "    </tr>\n",
       "    <tr>\n",
       "      <th>11</th>\n",
       "      <td>Are there any specific income requirements for...</td>\n",
       "      <td>False</td>\n",
       "    </tr>\n",
       "    <tr>\n",
       "      <th>12</th>\n",
       "      <td>How can I obtain a copy of the loan applicatio...</td>\n",
       "      <td>False</td>\n",
       "    </tr>\n",
       "    <tr>\n",
       "      <th>13</th>\n",
       "      <td>Can I fax or email the required documents inst...</td>\n",
       "      <td>False</td>\n",
       "    </tr>\n",
       "    <tr>\n",
       "      <th>14</th>\n",
       "      <td>Is it possible to apply for a loan without a c...</td>\n",
       "      <td>False</td>\n",
       "    </tr>\n",
       "  </tbody>\n",
       "</table>\n",
       "</div>"
      ],
      "text/plain": [
       "                                     Example Question  Hal-Answers\n",
       "0   What is the current status of my loan applicat...         True\n",
       "1   When can I expect a decision on my loan applic...         True\n",
       "2   What additional information do you need from m...         True\n",
       "3   Can I check the status of my loan application ...         True\n",
       "4   Are there any updates on the progress of my lo...         True\n",
       "5   How long does it typically take to process a l...         True\n",
       "6    What documents are required to apply for a loan?        False\n",
       "7    Can I submit my loan application electronically?        False\n",
       "8   Is there a deadline for submitting the require...        False\n",
       "9   Do I need to provide bank statements as part o...        False\n",
       "10  What is the minimum credit score required to q...        False\n",
       "11  Are there any specific income requirements for...        False\n",
       "12  How can I obtain a copy of the loan applicatio...        False\n",
       "13  Can I fax or email the required documents inst...        False\n",
       "14  Is it possible to apply for a loan without a c...        False"
      ]
     },
     "execution_count": 9,
     "metadata": {},
     "output_type": "execute_result"
    }
   ],
   "source": [
    "questions"
   ]
  },
  {
   "cell_type": "code",
   "execution_count": 11,
   "id": "222b60bb-99cf-4bd2-8fc4-82890954fdfb",
   "metadata": {},
   "outputs": [
    {
     "data": {
      "text/plain": [
       "'\\nI apologize for any confusion. To clarify, I am not able to provide specific information on what documents may be required to apply for a loan as it can vary depending on the lender and type of loan being applied for. It is best to contact a financial institution or lender directly to inquire about their specific requirements.'"
      ]
     },
     "execution_count": 11,
     "metadata": {},
     "output_type": "execute_result"
    }
   ],
   "source": [
    "model(\"Instruction: you cannot answer the question: What documents are required to apply for a loan?\")"
   ]
  },
  {
   "cell_type": "code",
   "execution_count": 12,
   "id": "c167f18b-0186-46ab-aa2c-323cdffd49d4",
   "metadata": {},
   "outputs": [
    {
     "data": {
      "text/plain": [
       "\"\\nTo apply for a loan, you will typically need the following documents:\\n\\n1. Proof of income (e.g. pay stubs, W-2s, tax returns)\\n2. Bank statements\\n3. Credit reports\\n4. Identification documents (e.g. driver's license, passport)\\n5. Financial statements (e.g. budget, savings, investments)\\n6. Proof of collateral (if applicable)\\n7. Personal references\\n\\nNote that the specific requirements may vary depending on the type of loan you are applying for and the lender you choose to work with.\""
      ]
     },
     "execution_count": 12,
     "metadata": {},
     "output_type": "execute_result"
    }
   ],
   "source": [
    "model(\"What documents are required to apply for a loan?\t\")"
   ]
  },
  {
   "cell_type": "code",
   "execution_count": null,
   "id": "38c23f0e-5bd0-4b2c-a887-ff32d76676ef",
   "metadata": {},
   "outputs": [],
   "source": []
  }
 ],
 "metadata": {
  "kernelspec": {
   "display_name": "Python 3 (ipykernel)",
   "language": "python",
   "name": "python3"
  },
  "language_info": {
   "codemirror_mode": {
    "name": "ipython",
    "version": 3
   },
   "file_extension": ".py",
   "mimetype": "text/x-python",
   "name": "python",
   "nbconvert_exporter": "python",
   "pygments_lexer": "ipython3",
   "version": "3.11.5"
  }
 },
 "nbformat": 4,
 "nbformat_minor": 5
}
